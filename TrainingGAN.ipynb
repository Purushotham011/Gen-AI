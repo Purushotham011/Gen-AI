{
  "nbformat": 4,
  "nbformat_minor": 0,
  "metadata": {
    "colab": {
      "provenance": [],
      "gpuType": "T4",
      "authorship_tag": "ABX9TyMcW8IyTMxBP8fcnsuVG9kC"
    },
    "kernelspec": {
      "name": "python3",
      "display_name": "Python 3"
    },
    "language_info": {
      "name": "python"
    },
    "accelerator": "GPU"
  },
  "cells": [
    {
      "cell_type": "code",
      "execution_count": null,
      "metadata": {
        "id": "m01QljAuA21-"
      },
      "outputs": [],
      "source": [
        "import torch\n",
        "import torch.nn as nn\n",
        "import torch.optim as optim\n",
        "import torchvision\n",
        "import torchvision.transforms as transforms\n",
        "import matplotlib.pyplot as plt\n",
        "import numpy as np\n",
        "from torch.utils.data import DataLoader"
      ]
    },
    {
      "cell_type": "code",
      "source": [
        "from typing import Generator\n",
        "def __init__(self,z_dim):\n",
        " super(Generator,self).__init__()\n",
        " self.fc1=nn.linear(z_dim,128)\n",
        " self.fc2=nn.linear(128,256)\n",
        " self.fc3=nn.linear(256,512)\n",
        " self.fc4=nn.linear(512,1024)\n",
        " self.fc5=nn.relu(1024,28*28) #output size of  MNIST\n",
        " self.relu=nn.ReLU()\n",
        " self.tanh=nn.Tanh()\n",
        "\n",
        " def forward(self,z):\n",
        "  x=self.relu(self.fc1(z))\n",
        "  x=self.relu(self.fc2(x))\n",
        "  x=self.relu(self.fc3(x))\n",
        "  x=self.relu(self.fc4(x))\n",
        "  x=self.tanh(self.fc5(x))  #output values btw 1 and -1\n",
        "  return x.view(x.size(0),1,28,28)  #reshape to image size(1x28x28)\n",
        "\n",
        "  class Critic(nn.Module):\n",
        "   def __init__(self):\n",
        "    super(Critic,self).__init__()\n",
        "    self.fc1=nn.Linear(28*28,1024)\n",
        "    self.fc2=nn.Linear(1025,512)\n",
        "    self.fc3=nn.Linear(512,256)\n",
        "    self.fc4=nn.Linear(256,1)\n",
        "    self.leaky_relu=nn.LeakyReLU(0.2)\n",
        "\n",
        "  def forward(self,x):\n",
        "    x=x.view(x.size(0),-1)                #flatten the image\n",
        "    x=self.leaky_relu(self.fc1(x))\n",
        "    x=self.leaky_relu(self.fc2(x))\n",
        "    x=self.leaky_relu(self.fc3(x))\n",
        "    return self.fc4(x)\n",
        "\n",
        "\n",
        "transform=transforms.Compose([transforms.ToTensor(),transforms.Normalize(mean=[0.5],std=[0.5])])\n",
        "train_dataset=torchvision.datasets.MNIST(root='./data',train=True,download=True,transform=transform)\n",
        "train_loader=DataLoader(train_dataset,batch_size=64,shuffle=True)\n",
        "\n",
        "def wasserstein_loss(y_true,y_pred):\n",
        "  return torch.mean(y_true*y_pred)\n",
        "\n",
        "def compute_gradient_penalty(critic,real_images,fake_images,device):\n",
        "  batch_size,C,H,W=real_images.shape\n",
        "  epsilon=torch.rand(batch_size,1,1,1).to(device)\n",
        "  interpolated_images=real_images*epsilon+fake_images*(1-epsilon)\n",
        "  interpolated_images.requires_grad_(True)\n",
        "\n",
        "  crictic_outputs=critic(interpolated_images)\n",
        "  gradient=torch.autograd.grad(\n",
        "      outputs=critic_outputs,inputs=interpolated_images,\n",
        "      grad_outputs=torch.ones_like(critic_outputs),\n",
        "      create_graph=True,retain_graph=True,only_inputs=True\n",
        "    )[0]\n",
        "\n",
        "  gradients=gradients.view(batch_size,-1)\n",
        "  gradients_norm=gradients.norm(2,dim=1)\n",
        "  penalty=((gradients_norm-1)**2).mean()\n",
        "\n",
        "  return penalty"
      ],
      "metadata": {
        "colab": {
          "base_uri": "https://localhost:8080/"
        },
        "id": "AYPXb2LcDuZ9",
        "outputId": "bf657993-8fc1-4e53-a933-8edadf93981b"
      },
      "execution_count": null,
      "outputs": [
        {
          "output_type": "stream",
          "name": "stdout",
          "text": [
            "Downloading http://yann.lecun.com/exdb/mnist/train-images-idx3-ubyte.gz\n",
            "Failed to download (trying next):\n",
            "HTTP Error 404: Not Found\n",
            "\n",
            "Downloading https://ossci-datasets.s3.amazonaws.com/mnist/train-images-idx3-ubyte.gz\n",
            "Downloading https://ossci-datasets.s3.amazonaws.com/mnist/train-images-idx3-ubyte.gz to ./data/MNIST/raw/train-images-idx3-ubyte.gz\n"
          ]
        },
        {
          "output_type": "stream",
          "name": "stderr",
          "text": [
            "100%|██████████| 9.91M/9.91M [00:00<00:00, 17.7MB/s]\n"
          ]
        },
        {
          "output_type": "stream",
          "name": "stdout",
          "text": [
            "Extracting ./data/MNIST/raw/train-images-idx3-ubyte.gz to ./data/MNIST/raw\n",
            "\n",
            "Downloading http://yann.lecun.com/exdb/mnist/train-labels-idx1-ubyte.gz\n",
            "Failed to download (trying next):\n",
            "HTTP Error 404: Not Found\n",
            "\n",
            "Downloading https://ossci-datasets.s3.amazonaws.com/mnist/train-labels-idx1-ubyte.gz\n",
            "Downloading https://ossci-datasets.s3.amazonaws.com/mnist/train-labels-idx1-ubyte.gz to ./data/MNIST/raw/train-labels-idx1-ubyte.gz\n"
          ]
        },
        {
          "output_type": "stream",
          "name": "stderr",
          "text": [
            "100%|██████████| 28.9k/28.9k [00:00<00:00, 484kB/s]\n"
          ]
        },
        {
          "output_type": "stream",
          "name": "stdout",
          "text": [
            "Extracting ./data/MNIST/raw/train-labels-idx1-ubyte.gz to ./data/MNIST/raw\n",
            "\n",
            "Downloading http://yann.lecun.com/exdb/mnist/t10k-images-idx3-ubyte.gz\n",
            "Failed to download (trying next):\n",
            "HTTP Error 404: Not Found\n",
            "\n",
            "Downloading https://ossci-datasets.s3.amazonaws.com/mnist/t10k-images-idx3-ubyte.gz\n",
            "Downloading https://ossci-datasets.s3.amazonaws.com/mnist/t10k-images-idx3-ubyte.gz to ./data/MNIST/raw/t10k-images-idx3-ubyte.gz\n"
          ]
        },
        {
          "output_type": "stream",
          "name": "stderr",
          "text": [
            "100%|██████████| 1.65M/1.65M [00:00<00:00, 4.44MB/s]\n"
          ]
        },
        {
          "output_type": "stream",
          "name": "stdout",
          "text": [
            "Extracting ./data/MNIST/raw/t10k-images-idx3-ubyte.gz to ./data/MNIST/raw\n",
            "\n",
            "Downloading http://yann.lecun.com/exdb/mnist/t10k-labels-idx1-ubyte.gz\n",
            "Failed to download (trying next):\n",
            "HTTP Error 404: Not Found\n",
            "\n",
            "Downloading https://ossci-datasets.s3.amazonaws.com/mnist/t10k-labels-idx1-ubyte.gz\n",
            "Downloading https://ossci-datasets.s3.amazonaws.com/mnist/t10k-labels-idx1-ubyte.gz to ./data/MNIST/raw/t10k-labels-idx1-ubyte.gz\n"
          ]
        },
        {
          "output_type": "stream",
          "name": "stderr",
          "text": [
            "100%|██████████| 4.54k/4.54k [00:00<00:00, 4.25MB/s]"
          ]
        },
        {
          "output_type": "stream",
          "name": "stdout",
          "text": [
            "Extracting ./data/MNIST/raw/t10k-labels-idx1-ubyte.gz to ./data/MNIST/raw\n",
            "\n"
          ]
        },
        {
          "output_type": "stream",
          "name": "stderr",
          "text": [
            "\n"
          ]
        }
      ]
    }
  ]
}