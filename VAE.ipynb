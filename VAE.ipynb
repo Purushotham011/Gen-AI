{
  "nbformat": 4,
  "nbformat_minor": 0,
  "metadata": {
    "colab": {
      "provenance": [],
      "authorship_tag": "ABX9TyNh7g72h46mnNexlWFpqoAk",
      "include_colab_link": true
    },
    "kernelspec": {
      "name": "python3",
      "display_name": "Python 3"
    },
    "language_info": {
      "name": "python"
    }
  },
  "cells": [
    {
      "cell_type": "markdown",
      "metadata": {
        "id": "view-in-github",
        "colab_type": "text"
      },
      "source": [
        "<a href=\"https://colab.research.google.com/github/Purushotham011/Gen-AI/blob/main/VAE.ipynb\" target=\"_parent\"><img src=\"https://colab.research.google.com/assets/colab-badge.svg\" alt=\"Open In Colab\"/></a>"
      ]
    },
    {
      "cell_type": "code",
      "execution_count": 1,
      "metadata": {
        "id": "hkOMOsTC7OUC"
      },
      "outputs": [],
      "source": [
        "import numpy as np\n",
        "import tensorflow as tf\n",
        "import keras\n",
        "from tensorflow.keras import layers,Model\n",
        "from tensorflow.keras import datasets\n",
        "from tensorflow.keras.losses import MeanSquaredError, KLDivergence, binary_focal_crossentropy\n",
        "from tensorflow.keras.optimizers import Adam\n",
        "from tensorflow.keras.callbacks import ModelCheckpoint, EarlyStopping\n",
        "import matplotlib.pyplot as plt\n",
        "from numpy import cov, trace, iscomplexobj,asarray\n",
        "from numpy.random import randint\n",
        "from scipy.linalg import sqrtm\n",
        "from skimage.transform import resize"
      ]
    },
    {
      "cell_type": "code",
      "source": [
        "(x_train, y_train), (x_test, y_test) = datasets.cifar10.load_data()"
      ],
      "metadata": {
        "colab": {
          "base_uri": "https://localhost:8080/"
        },
        "id": "w3CIOKqY84Ei",
        "outputId": "a22930ae-0195-454a-e303-295967d6642d"
      },
      "execution_count": 2,
      "outputs": [
        {
          "output_type": "stream",
          "name": "stdout",
          "text": [
            "Downloading data from https://www.cs.toronto.edu/~kriz/cifar-10-python.tar.gz\n",
            "\u001b[1m170498071/170498071\u001b[0m \u001b[32m━━━━━━━━━━━━━━━━━━━━\u001b[0m\u001b[37m\u001b[0m \u001b[1m4s\u001b[0m 0us/step\n"
          ]
        }
      ]
    },
    {
      "cell_type": "code",
      "source": [
        "x_train = x_train.astype('float32')/255.0\n",
        "x_test = x_test.astype('float32')/255.0"
      ],
      "metadata": {
        "id": "ucSNP3ZP9B04"
      },
      "execution_count": 3,
      "outputs": []
    },
    {
      "cell_type": "code",
      "source": [
        "latent_dim = 1024\n",
        "image_shape = x_train[0].shape\n",
        "mse_loss = MeanSquaredError()\n",
        "kl_loss = KLDivergence()"
      ],
      "metadata": {
        "id": "g0hSYbLd9Zhj"
      },
      "execution_count": 5,
      "outputs": []
    },
    {
      "cell_type": "code",
      "source": [
        "class VAE(keras.Model) :\n",
        "    def __init__(self,latent_dim,image_shape,beta) :\n",
        "        super(VAE,self).__init__()\n",
        "        self.latent_dim = latent_dim\n",
        "        self.image_shape = image_shape\n",
        "        self.beta = beta\n",
        "\n",
        "        #encoder\n",
        "        self.encoder = keras.Sequential([\n",
        "            layers.InputLayer(shape=image_shape),name =\"Encoder_Input_Layer\",\n",
        "\n",
        "            layers.Conv2D(filters=32,kernel_size=3,strides=(2,2),activation='relu',padding='same',name=\"Encoder_Conv2D_Layer_2\"),\n",
        "\n",
        "            layers.Conv2D(filters=64,kernel_size=3,strides=(2,2),activation='relu',padding='same',name=\"Encoder_Conv2D_Layer_4\"),\n",
        "\n",
        "            layers.Conv2D(filters=128,kernel_size=3,strides=(2,2),activation='relu',padding='same',name=\"Encoder_Conv2D_Layer_6\"),\n",
        "\n",
        "            layers.Flatten(name=\"Encoder_Flatten\"),\n",
        "        ])\n",
        "\n",
        "        self.z_mean = layers.Dense(latent_dim,name=\"z_mean\")\n",
        "        self.z_log_var = layers.Dense(latent_dim,name=\"z_log_var\")\n",
        "\n",
        "        #decoder\n",
        "        self.decoder = keras.Sequential([\n",
        "            layers.InputLayer(shape=(latent_dim,)),\n",
        "            layers.Dense(units=8*8*64, activation='relu'),\n",
        "            layers.Reshape(target_shape=(8, 8, 64)),\n",
        "            layers.Conv2DTranspose(filters=64, kernel_size=3, strides=(2, 2), padding='same', activation='relu'),\n",
        "            layers.Conv2DTranspose(filters=32, kernel_size=3, strides=(2, 2), padding='same', activation='relu'),\n",
        "            layers.Conv2DTranspose(filters=3, kernel_size=3, strides=(1, 1), padding='same' , activation='sigmoid')\n",
        "        ])\n",
        "\n",
        "        self.total_loss_tracker = keras.metrics.Mean(name=\"total_loss\")\n",
        "        self.reconstruction_loss_tracker = keras.metrics.Mean(name=\"reconstruction_loss\")\n",
        "        self.kl_loss_tracker = keras.metrics.Mean(name=\"kl_loss\")\n",
        "\n",
        "    #Build the Encoder\n",
        "    def encode(self,data):\n",
        "        x= slef.encoder(data)\n",
        "        z_mean,z_log_var = self.z_mean(x),self.z_log_var(x)\n",
        "        return z_mean,z_log_var\n",
        "\n",
        "    def reparameterize(self,z_mean,z_log_var):\n",
        "        batch =tf.shape(z_mean)[0]\n",
        "        dim = tf.shape(z_mean)[1]\n",
        "        epsilon = tf.keras.backend.random_normal(shape=(batch,dim))\n",
        "        z = z_mean + tf.exp(0.5*z_log_var)*epsilon\n",
        "        return z\n",
        "\n",
        "    def call(self,x):\n",
        "        mean, logvar =self.encode\n",
        "        z = self.reparameterize(mean,logvar)\n",
        "        return self.decoder(z),mean,logvar\n",
        ""
      ],
      "metadata": {
        "id": "5p0vVnur-DcC"
      },
      "execution_count": 6,
      "outputs": []
    },
    {
      "cell_type": "code",
      "source": [],
      "metadata": {
        "id": "RJ51t5MT-3F7"
      },
      "execution_count": null,
      "outputs": []
    }
  ]
}