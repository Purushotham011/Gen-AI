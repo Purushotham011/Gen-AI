{
  "nbformat": 4,
  "nbformat_minor": 0,
  "metadata": {
    "colab": {
      "provenance": [],
      "gpuType": "T4",
      "authorship_tag": "ABX9TyNTAl8yWdIsU9y5S9UxIyl2"
    },
    "kernelspec": {
      "name": "python3",
      "display_name": "Python 3"
    },
    "language_info": {
      "name": "python"
    },
    "accelerator": "GPU"
  },
  "cells": [
    {
      "cell_type": "code",
      "execution_count": 14,
      "metadata": {
        "id": "hkOMOsTC7OUC"
      },
      "outputs": [],
      "source": [
        "import numpy as np\n",
        "import tensorflow as tf\n",
        "import keras\n",
        "from tensorflow.keras import layers,Model\n",
        "from tensorflow.keras import datasets\n",
        "from tensorflow.keras.losses import MeanSquaredError, KLDivergence, binary_crossentropy\n",
        "from tensorflow.keras.optimizers import Adam\n",
        "from tensorflow.keras.callbacks import ModelCheckpoint, EarlyStopping\n",
        "import matplotlib.pyplot as plt\n",
        "from numpy import cov, trace, iscomplexobj,asarray\n",
        "from numpy.random import randint\n",
        "from scipy.linalg import sqrtm\n",
        "from skimage.transform import resize"
      ]
    },
    {
      "cell_type": "code",
      "source": [
        "(x_train, y_train), (x_test, y_test) = datasets.cifar10.load_data()"
      ],
      "metadata": {
        "colab": {
          "base_uri": "https://localhost:8080/"
        },
        "id": "w3CIOKqY84Ei",
        "outputId": "2eb3ee7d-714e-46b8-9751-5b421708d992"
      },
      "execution_count": 3,
      "outputs": [
        {
          "output_type": "stream",
          "name": "stdout",
          "text": [
            "Downloading data from https://www.cs.toronto.edu/~kriz/cifar-10-python.tar.gz\n",
            "\u001b[1m170498071/170498071\u001b[0m \u001b[32m━━━━━━━━━━━━━━━━━━━━\u001b[0m\u001b[37m\u001b[0m \u001b[1m8s\u001b[0m 0us/step\n"
          ]
        }
      ]
    },
    {
      "cell_type": "code",
      "source": [
        "x_train = x_train.astype('float32')/255.0\n",
        "x_test = x_test.astype('float32')/255.0"
      ],
      "metadata": {
        "id": "ucSNP3ZP9B04"
      },
      "execution_count": 4,
      "outputs": []
    },
    {
      "cell_type": "code",
      "source": [
        "latent_dim = 1024\n",
        "image_shape = x_train[0].shape\n",
        "mse_loss = MeanSquaredError()\n",
        "kl_loss = KLDivergence()"
      ],
      "metadata": {
        "id": "g0hSYbLd9Zhj"
      },
      "execution_count": 5,
      "outputs": []
    },
    {
      "cell_type": "code",
      "source": [
        "class VAE(keras.Model):\n",
        "    def __init__(self,latent_dim,image_shape,beta):\n",
        "        super(VAE,self).__init__()\n",
        "\n",
        "        self.latent_dim=latent_dim\n",
        "        self.image_shape=image_shape\n",
        "        self.beta=beta\n",
        "\n",
        "        self.encoder=tf.keras.Sequential([\n",
        "            layers.Input(shape=image_shape,name=\"Encoder_Input_layer\"),\n",
        "\n",
        "            layers.Conv2D(32,3,strides=2,activation=\"relu\",padding='same',name=\"Encoder_Conv2D_2\"),\n",
        "            layers.Conv2D(64,3,strides=2,activation=\"relu\",padding='same',name=\"Encoder_Conv2D_4\"),\n",
        "            layers.Conv2D(128,3,strides=2,activation=\"relu\",padding='same',name=\"Encoder_Conv2D_6\"),\n",
        "            layers.Flatten(name=\"Encoder_Flatten\"),\n",
        "        ])\n",
        "\n",
        "        self.z_mean=layers.Dense(latent_dim,name=\"z_mean\")\n",
        "        self.z_log_var=layers.Dense(latent_dim,name=\"z_log_var\")\n",
        "\n",
        "        self.decoder=tf.keras.Sequential([\n",
        "            layers.InputLayer(input_shape=(latent_dim,)),\n",
        "            layers.Dense(8*8*64,activation='relu'),\n",
        "            layers.Reshape((8,8,64)),\n",
        "            layers.Conv2DTranspose(64,kernel_size=3,strides=2,padding='same',activation='relu'),\n",
        "            layers.Conv2DTranspose(32,kernel_size=3,strides=2,padding='same',activation='relu'),\n",
        "            layers.Conv2DTranspose(3,kernel_size=3,strides=1,padding='same',activation='sigmoid'),\n",
        "       ])\n",
        "\n",
        "        self.total_loss_tracker=keras.metrics.Mean(name=\"total_loss\")\n",
        "        self.reconstruction_loss_tracker=keras.metrics.Mean(name=\"reconstruction_loss\")\n",
        "        self.kl_loss_tracker=keras.metrics.Mean(name=\"kl_loss\")\n",
        "\n",
        "        #build the encoder\n",
        "    def encode(self,data):\n",
        "        x=self.encoder(data)\n",
        "        z_mean,z_log_var=self.z_mean(x),self.z_log_var(x)\n",
        "        return z_mean,z_log_var\n",
        "\n",
        "    def reparameterize(self,z_mean,z_log_var):\n",
        "        batch=tf.shape(z_mean)[0]\n",
        "        dim=tf.shape(z_mean)[1]\n",
        "        epsilon=tf.keras.backend.random_normal(shape=(batch,dim))\n",
        "        z=z_mean+tf.exp(0.5*z_log_var)*epsilon\n",
        "        return z\n",
        "\n",
        "    def call(self,x):\n",
        "        mean,logvar=self.encode(x)\n",
        "        z=self.reparameterize(mean,logvar)\n",
        "        x_recon=self.decoder(z)\n",
        "        return x_recon,mean,logvar\n",
        "\n",
        "    def decode(self,data):\n",
        "        return self.decoder(data) # Pass data to the decoder\n",
        "\n",
        "    @property\n",
        "    def metrics(self):\n",
        "        return [\n",
        "            self.total_loss_tracker,\n",
        "            self.reconstruction_loss_tracker,\n",
        "            self.kl_loss_tracker\n",
        "        ]\n",
        "\n",
        "    def recon_loss(self,data,reconstruction):\n",
        "        return tf.reduce_mean(binary_crossentropy(data,reconstruction))\n",
        "\n",
        "    def kl_divergence(self,z_logvar,Z_mu):\n",
        "        kl=-0.5*tf.reduce_mean(1+z_logvar - Z_mu**2- tf.math.exp(z_logvar)) # Corrected variable name and added closing parenthesis\n",
        "        return self.beta*kl\n",
        "\n",
        "    def train_step(self,data):\n",
        "        with tf.GradientTape() as tape:\n",
        "            z_mean,z_log_var=self.encode(data)\n",
        "            z=self.reparameterize(z_mean,z_log_var)\n",
        "            reconstruction=self.decode(z)\n",
        "\n",
        "            reconstruction_loss=self.recon_loss(data,reconstruction)\n",
        "            kl_loss=self.kl_divergence(z_log_var,z_mean)\n",
        "\n",
        "            total_loss=reconstruction_loss + kl_loss\n",
        "\n",
        "        grads=tape.gradient(total_loss,self.trainable_weights)\n",
        "        self.optimizer.apply_gradients(zip(grads,self.trainable_weights))\n",
        "        self.total_loss_tracker.update_state(total_loss)\n",
        "        self.reconstruction_loss_tracker.update_state(reconstruction_loss)\n",
        "        self.kl_loss_tracker.update_state(kl_loss)\n",
        "        return {\n",
        "            \"loss\":self.total_loss_tracker.result(),\n",
        "            \"reconstruction_loss\":self.reconstruction_loss_tracker.result(),\n",
        "            \"kl_loss\":self.kl_loss_tracker.result()\n",
        "        }"
      ],
      "metadata": {
        "id": "5p0vVnur-DcC"
      },
      "execution_count": 8,
      "outputs": []
    },
    {
      "cell_type": "code",
      "source": [
        "vae=VAE(latent_dim,image_shape,0.3)"
      ],
      "metadata": {
        "id": "DJcJpDWOLCiL"
      },
      "execution_count": 15,
      "outputs": []
    },
    {
      "cell_type": "code",
      "source": [
        "vae.compile(optimizer=keras.optimizers.Adam())\n",
        "early_stopping=EarlyStopping(monitor='loss',patience=10,verbose=1)\n",
        "history=vae.fit(x_train,epochs=50,batch_size=512,callbacks=[early_stopping])"
      ],
      "metadata": {
        "colab": {
          "base_uri": "https://localhost:8080/"
        },
        "id": "RJ51t5MT-3F7",
        "outputId": "de67f5ed-5028-4429-a785-aa28ea588b34"
      },
      "execution_count": 16,
      "outputs": [
        {
          "output_type": "stream",
          "name": "stdout",
          "text": [
            "Epoch 1/50\n",
            "\u001b[1m98/98\u001b[0m \u001b[32m━━━━━━━━━━━━━━━━━━━━\u001b[0m\u001b[37m\u001b[0m \u001b[1m18s\u001b[0m 77ms/step - kl_loss: 5.8864e-04 - loss: 0.6877 - reconstruction_loss: 0.6872\n",
            "Epoch 2/50\n",
            "\u001b[1m98/98\u001b[0m \u001b[32m━━━━━━━━━━━━━━━━━━━━\u001b[0m\u001b[37m\u001b[0m \u001b[1m9s\u001b[0m 33ms/step - kl_loss: 0.0080 - loss: 0.6276 - reconstruction_loss: 0.6196\n",
            "Epoch 3/50\n",
            "\u001b[1m98/98\u001b[0m \u001b[32m━━━━━━━━━━━━━━━━━━━━\u001b[0m\u001b[37m\u001b[0m \u001b[1m5s\u001b[0m 33ms/step - kl_loss: 0.0108 - loss: 0.6190 - reconstruction_loss: 0.6082\n",
            "Epoch 4/50\n",
            "\u001b[1m98/98\u001b[0m \u001b[32m━━━━━━━━━━━━━━━━━━━━\u001b[0m\u001b[37m\u001b[0m \u001b[1m5s\u001b[0m 34ms/step - kl_loss: 0.0125 - loss: 0.6139 - reconstruction_loss: 0.6014\n",
            "Epoch 5/50\n",
            "\u001b[1m98/98\u001b[0m \u001b[32m━━━━━━━━━━━━━━━━━━━━\u001b[0m\u001b[37m\u001b[0m \u001b[1m5s\u001b[0m 33ms/step - kl_loss: 0.0131 - loss: 0.6120 - reconstruction_loss: 0.5988\n",
            "Epoch 6/50\n",
            "\u001b[1m98/98\u001b[0m \u001b[32m━━━━━━━━━━━━━━━━━━━━\u001b[0m\u001b[37m\u001b[0m \u001b[1m5s\u001b[0m 33ms/step - kl_loss: 0.0136 - loss: 0.6105 - reconstruction_loss: 0.5969\n",
            "Epoch 7/50\n",
            "\u001b[1m98/98\u001b[0m \u001b[32m━━━━━━━━━━━━━━━━━━━━\u001b[0m\u001b[37m\u001b[0m \u001b[1m5s\u001b[0m 34ms/step - kl_loss: 0.0138 - loss: 0.6092 - reconstruction_loss: 0.5954\n",
            "Epoch 8/50\n",
            "\u001b[1m98/98\u001b[0m \u001b[32m━━━━━━━━━━━━━━━━━━━━\u001b[0m\u001b[37m\u001b[0m \u001b[1m5s\u001b[0m 33ms/step - kl_loss: 0.0135 - loss: 0.6072 - reconstruction_loss: 0.5936\n",
            "Epoch 9/50\n",
            "\u001b[1m98/98\u001b[0m \u001b[32m━━━━━━━━━━━━━━━━━━━━\u001b[0m\u001b[37m\u001b[0m \u001b[1m5s\u001b[0m 34ms/step - kl_loss: 0.0132 - loss: 0.6042 - reconstruction_loss: 0.5910\n",
            "Epoch 10/50\n",
            "\u001b[1m98/98\u001b[0m \u001b[32m━━━━━━━━━━━━━━━━━━━━\u001b[0m\u001b[37m\u001b[0m \u001b[1m3s\u001b[0m 33ms/step - kl_loss: 0.0129 - loss: 0.6015 - reconstruction_loss: 0.5886\n",
            "Epoch 11/50\n",
            "\u001b[1m98/98\u001b[0m \u001b[32m━━━━━━━━━━━━━━━━━━━━\u001b[0m\u001b[37m\u001b[0m \u001b[1m5s\u001b[0m 34ms/step - kl_loss: 0.0127 - loss: 0.5993 - reconstruction_loss: 0.5866\n",
            "Epoch 12/50\n",
            "\u001b[1m98/98\u001b[0m \u001b[32m━━━━━━━━━━━━━━━━━━━━\u001b[0m\u001b[37m\u001b[0m \u001b[1m5s\u001b[0m 34ms/step - kl_loss: 0.0126 - loss: 0.5982 - reconstruction_loss: 0.5856\n",
            "Epoch 13/50\n",
            "\u001b[1m98/98\u001b[0m \u001b[32m━━━━━━━━━━━━━━━━━━━━\u001b[0m\u001b[37m\u001b[0m \u001b[1m5s\u001b[0m 34ms/step - kl_loss: 0.0125 - loss: 0.5979 - reconstruction_loss: 0.5854\n",
            "Epoch 14/50\n",
            "\u001b[1m98/98\u001b[0m \u001b[32m━━━━━━━━━━━━━━━━━━━━\u001b[0m\u001b[37m\u001b[0m \u001b[1m5s\u001b[0m 35ms/step - kl_loss: 0.0126 - loss: 0.5960 - reconstruction_loss: 0.5834\n",
            "Epoch 15/50\n",
            "\u001b[1m98/98\u001b[0m \u001b[32m━━━━━━━━━━━━━━━━━━━━\u001b[0m\u001b[37m\u001b[0m \u001b[1m5s\u001b[0m 34ms/step - kl_loss: 0.0126 - loss: 0.5960 - reconstruction_loss: 0.5834\n",
            "Epoch 16/50\n",
            "\u001b[1m98/98\u001b[0m \u001b[32m━━━━━━━━━━━━━━━━━━━━\u001b[0m\u001b[37m\u001b[0m \u001b[1m5s\u001b[0m 35ms/step - kl_loss: 0.0126 - loss: 0.5958 - reconstruction_loss: 0.5832\n",
            "Epoch 17/50\n",
            "\u001b[1m98/98\u001b[0m \u001b[32m━━━━━━━━━━━━━━━━━━━━\u001b[0m\u001b[37m\u001b[0m \u001b[1m5s\u001b[0m 34ms/step - kl_loss: 0.0127 - loss: 0.5948 - reconstruction_loss: 0.5821\n",
            "Epoch 18/50\n",
            "\u001b[1m98/98\u001b[0m \u001b[32m━━━━━━━━━━━━━━━━━━━━\u001b[0m\u001b[37m\u001b[0m \u001b[1m5s\u001b[0m 34ms/step - kl_loss: 0.0128 - loss: 0.5944 - reconstruction_loss: 0.5815\n",
            "Epoch 19/50\n",
            "\u001b[1m98/98\u001b[0m \u001b[32m━━━━━━━━━━━━━━━━━━━━\u001b[0m\u001b[37m\u001b[0m \u001b[1m5s\u001b[0m 35ms/step - kl_loss: 0.0128 - loss: 0.5949 - reconstruction_loss: 0.5820\n",
            "Epoch 20/50\n",
            "\u001b[1m98/98\u001b[0m \u001b[32m━━━━━━━━━━━━━━━━━━━━\u001b[0m\u001b[37m\u001b[0m \u001b[1m3s\u001b[0m 34ms/step - kl_loss: 0.0129 - loss: 0.5945 - reconstruction_loss: 0.5816\n",
            "Epoch 21/50\n",
            "\u001b[1m98/98\u001b[0m \u001b[32m━━━━━━━━━━━━━━━━━━━━\u001b[0m\u001b[37m\u001b[0m \u001b[1m3s\u001b[0m 34ms/step - kl_loss: 0.0130 - loss: 0.5942 - reconstruction_loss: 0.5812\n",
            "Epoch 22/50\n",
            "\u001b[1m98/98\u001b[0m \u001b[32m━━━━━━━━━━━━━━━━━━━━\u001b[0m\u001b[37m\u001b[0m \u001b[1m3s\u001b[0m 35ms/step - kl_loss: 0.0130 - loss: 0.5933 - reconstruction_loss: 0.5803\n",
            "Epoch 23/50\n",
            "\u001b[1m98/98\u001b[0m \u001b[32m━━━━━━━━━━━━━━━━━━━━\u001b[0m\u001b[37m\u001b[0m \u001b[1m5s\u001b[0m 39ms/step - kl_loss: 0.0131 - loss: 0.5936 - reconstruction_loss: 0.5806\n",
            "Epoch 24/50\n",
            "\u001b[1m98/98\u001b[0m \u001b[32m━━━━━━━━━━━━━━━━━━━━\u001b[0m\u001b[37m\u001b[0m \u001b[1m3s\u001b[0m 33ms/step - kl_loss: 0.0131 - loss: 0.5933 - reconstruction_loss: 0.5802\n",
            "Epoch 25/50\n",
            "\u001b[1m98/98\u001b[0m \u001b[32m━━━━━━━━━━━━━━━━━━━━\u001b[0m\u001b[37m\u001b[0m \u001b[1m5s\u001b[0m 35ms/step - kl_loss: 0.0132 - loss: 0.5933 - reconstruction_loss: 0.5802\n",
            "Epoch 26/50\n",
            "\u001b[1m98/98\u001b[0m \u001b[32m━━━━━━━━━━━━━━━━━━━━\u001b[0m\u001b[37m\u001b[0m \u001b[1m5s\u001b[0m 33ms/step - kl_loss: 0.0132 - loss: 0.5928 - reconstruction_loss: 0.5796\n",
            "Epoch 27/50\n",
            "\u001b[1m98/98\u001b[0m \u001b[32m━━━━━━━━━━━━━━━━━━━━\u001b[0m\u001b[37m\u001b[0m \u001b[1m3s\u001b[0m 33ms/step - kl_loss: 0.0132 - loss: 0.5929 - reconstruction_loss: 0.5797\n",
            "Epoch 28/50\n",
            "\u001b[1m98/98\u001b[0m \u001b[32m━━━━━━━━━━━━━━━━━━━━\u001b[0m\u001b[37m\u001b[0m \u001b[1m3s\u001b[0m 35ms/step - kl_loss: 0.0133 - loss: 0.5926 - reconstruction_loss: 0.5794\n",
            "Epoch 29/50\n",
            "\u001b[1m98/98\u001b[0m \u001b[32m━━━━━━━━━━━━━━━━━━━━\u001b[0m\u001b[37m\u001b[0m \u001b[1m5s\u001b[0m 34ms/step - kl_loss: 0.0133 - loss: 0.5932 - reconstruction_loss: 0.5799\n",
            "Epoch 30/50\n",
            "\u001b[1m98/98\u001b[0m \u001b[32m━━━━━━━━━━━━━━━━━━━━\u001b[0m\u001b[37m\u001b[0m \u001b[1m5s\u001b[0m 34ms/step - kl_loss: 0.0133 - loss: 0.5931 - reconstruction_loss: 0.5798\n",
            "Epoch 31/50\n",
            "\u001b[1m98/98\u001b[0m \u001b[32m━━━━━━━━━━━━━━━━━━━━\u001b[0m\u001b[37m\u001b[0m \u001b[1m3s\u001b[0m 35ms/step - kl_loss: 0.0133 - loss: 0.5926 - reconstruction_loss: 0.5793\n",
            "Epoch 32/50\n",
            "\u001b[1m98/98\u001b[0m \u001b[32m━━━━━━━━━━━━━━━━━━━━\u001b[0m\u001b[37m\u001b[0m \u001b[1m3s\u001b[0m 33ms/step - kl_loss: 0.0134 - loss: 0.5921 - reconstruction_loss: 0.5787\n",
            "Epoch 33/50\n",
            "\u001b[1m98/98\u001b[0m \u001b[32m━━━━━━━━━━━━━━━━━━━━\u001b[0m\u001b[37m\u001b[0m \u001b[1m5s\u001b[0m 34ms/step - kl_loss: 0.0134 - loss: 0.5923 - reconstruction_loss: 0.5789\n",
            "Epoch 34/50\n",
            "\u001b[1m98/98\u001b[0m \u001b[32m━━━━━━━━━━━━━━━━━━━━\u001b[0m\u001b[37m\u001b[0m \u001b[1m5s\u001b[0m 34ms/step - kl_loss: 0.0134 - loss: 0.5924 - reconstruction_loss: 0.5789\n",
            "Epoch 35/50\n",
            "\u001b[1m98/98\u001b[0m \u001b[32m━━━━━━━━━━━━━━━━━━━━\u001b[0m\u001b[37m\u001b[0m \u001b[1m3s\u001b[0m 34ms/step - kl_loss: 0.0134 - loss: 0.5925 - reconstruction_loss: 0.5790\n",
            "Epoch 36/50\n",
            "\u001b[1m98/98\u001b[0m \u001b[32m━━━━━━━━━━━━━━━━━━━━\u001b[0m\u001b[37m\u001b[0m \u001b[1m5s\u001b[0m 35ms/step - kl_loss: 0.0135 - loss: 0.5925 - reconstruction_loss: 0.5790\n",
            "Epoch 37/50\n",
            "\u001b[1m98/98\u001b[0m \u001b[32m━━━━━━━━━━━━━━━━━━━━\u001b[0m\u001b[37m\u001b[0m \u001b[1m3s\u001b[0m 34ms/step - kl_loss: 0.0135 - loss: 0.5918 - reconstruction_loss: 0.5783\n",
            "Epoch 38/50\n",
            "\u001b[1m98/98\u001b[0m \u001b[32m━━━━━━━━━━━━━━━━━━━━\u001b[0m\u001b[37m\u001b[0m \u001b[1m3s\u001b[0m 34ms/step - kl_loss: 0.0135 - loss: 0.5926 - reconstruction_loss: 0.5791\n",
            "Epoch 39/50\n",
            "\u001b[1m98/98\u001b[0m \u001b[32m━━━━━━━━━━━━━━━━━━━━\u001b[0m\u001b[37m\u001b[0m \u001b[1m5s\u001b[0m 35ms/step - kl_loss: 0.0136 - loss: 0.5918 - reconstruction_loss: 0.5782\n",
            "Epoch 40/50\n",
            "\u001b[1m98/98\u001b[0m \u001b[32m━━━━━━━━━━━━━━━━━━━━\u001b[0m\u001b[37m\u001b[0m \u001b[1m3s\u001b[0m 34ms/step - kl_loss: 0.0136 - loss: 0.5920 - reconstruction_loss: 0.5784\n",
            "Epoch 41/50\n",
            "\u001b[1m98/98\u001b[0m \u001b[32m━━━━━━━━━━━━━━━━━━━━\u001b[0m\u001b[37m\u001b[0m \u001b[1m3s\u001b[0m 34ms/step - kl_loss: 0.0136 - loss: 0.5914 - reconstruction_loss: 0.5778\n",
            "Epoch 42/50\n",
            "\u001b[1m98/98\u001b[0m \u001b[32m━━━━━━━━━━━━━━━━━━━━\u001b[0m\u001b[37m\u001b[0m \u001b[1m3s\u001b[0m 34ms/step - kl_loss: 0.0136 - loss: 0.5924 - reconstruction_loss: 0.5788\n",
            "Epoch 43/50\n",
            "\u001b[1m98/98\u001b[0m \u001b[32m━━━━━━━━━━━━━━━━━━━━\u001b[0m\u001b[37m\u001b[0m \u001b[1m3s\u001b[0m 34ms/step - kl_loss: 0.0136 - loss: 0.5914 - reconstruction_loss: 0.5778\n",
            "Epoch 44/50\n",
            "\u001b[1m98/98\u001b[0m \u001b[32m━━━━━━━━━━━━━━━━━━━━\u001b[0m\u001b[37m\u001b[0m \u001b[1m5s\u001b[0m 34ms/step - kl_loss: 0.0136 - loss: 0.5919 - reconstruction_loss: 0.5782\n",
            "Epoch 45/50\n",
            "\u001b[1m98/98\u001b[0m \u001b[32m━━━━━━━━━━━━━━━━━━━━\u001b[0m\u001b[37m\u001b[0m \u001b[1m3s\u001b[0m 33ms/step - kl_loss: 0.0137 - loss: 0.5922 - reconstruction_loss: 0.5786\n",
            "Epoch 46/50\n",
            "\u001b[1m98/98\u001b[0m \u001b[32m━━━━━━━━━━━━━━━━━━━━\u001b[0m\u001b[37m\u001b[0m \u001b[1m3s\u001b[0m 34ms/step - kl_loss: 0.0137 - loss: 0.5912 - reconstruction_loss: 0.5775\n",
            "Epoch 47/50\n",
            "\u001b[1m98/98\u001b[0m \u001b[32m━━━━━━━━━━━━━━━━━━━━\u001b[0m\u001b[37m\u001b[0m \u001b[1m3s\u001b[0m 34ms/step - kl_loss: 0.0137 - loss: 0.5910 - reconstruction_loss: 0.5773\n",
            "Epoch 48/50\n",
            "\u001b[1m98/98\u001b[0m \u001b[32m━━━━━━━━━━━━━━━━━━━━\u001b[0m\u001b[37m\u001b[0m \u001b[1m5s\u001b[0m 33ms/step - kl_loss: 0.0137 - loss: 0.5916 - reconstruction_loss: 0.5779\n",
            "Epoch 49/50\n",
            "\u001b[1m98/98\u001b[0m \u001b[32m━━━━━━━━━━━━━━━━━━━━\u001b[0m\u001b[37m\u001b[0m \u001b[1m3s\u001b[0m 33ms/step - kl_loss: 0.0138 - loss: 0.5909 - reconstruction_loss: 0.5771\n",
            "Epoch 50/50\n",
            "\u001b[1m98/98\u001b[0m \u001b[32m━━━━━━━━━━━━━━━━━━━━\u001b[0m\u001b[37m\u001b[0m \u001b[1m5s\u001b[0m 34ms/step - kl_loss: 0.0137 - loss: 0.5911 - reconstruction_loss: 0.5773\n"
          ]
        }
      ]
    },
    {
      "cell_type": "code",
      "source": [
        "def generate_images_from_latent_vectors(vae, num_images_to_generate):\n",
        "    random_latent_vectors = np.random.normal(size=(num_images_to_generate, latent_dim))\n",
        "    generated_images = vae.decoder.predict(random_latent_vectors)\n",
        "    return generated_images\n",
        "\n",
        "generated_images = generate_images_from_latent_vectors(vae, 20)"
      ],
      "metadata": {
        "colab": {
          "base_uri": "https://localhost:8080/"
        },
        "id": "PDCkLVpyPwjv",
        "outputId": "78c2424c-2e00-4581-c062-496ad49cbafe"
      },
      "execution_count": 17,
      "outputs": [
        {
          "output_type": "stream",
          "name": "stdout",
          "text": [
            "\u001b[1m1/1\u001b[0m \u001b[32m━━━━━━━━━━━━━━━━━━━━\u001b[0m\u001b[37m\u001b[0m \u001b[1m0s\u001b[0m 427ms/step\n"
          ]
        }
      ]
    },
    {
      "cell_type": "code",
      "source": [
        "def plot_real_and_generated_images(real_images,generated_images):\n",
        "  plt.figure(figsize=(20,10))\n",
        "\n",
        "\n",
        "  for i in range(num_images_to_generate):\n",
        "   plt.subplot(2,num_images_to_generate,i+1)\n",
        "   plt.imshow(real_images[i])\n",
        "   plt.title('Generated_images')\n",
        "   plt.axis('off')\n",
        "\n",
        "\n",
        "  for i in range(num_images_to_generate):\n",
        "   plt.subplot(2,num_images_to_generate,i+1+num_images_to_generate)\n",
        "   plt.imshow(generated_images[i+10])\n",
        "   plt.title('Generated_images')\n",
        "   plt.axis('off')\n",
        "\n",
        "  plt.tight_layout()\n",
        "  plt.show()\n",
        "\n",
        "#plot real and generated images side by side vertically\n",
        "plot_real_and_generated_images(x_test,generated_images,5)"
      ],
      "metadata": {
        "colab": {
          "base_uri": "https://localhost:8080/",
          "height": 180
        },
        "id": "p7v45U04QUXq",
        "outputId": "d2e7ede7-8c0c-48d4-f46d-27bcab7a3033"
      },
      "execution_count": 18,
      "outputs": [
        {
          "output_type": "error",
          "ename": "TypeError",
          "evalue": "plot_real_and_generated_images() takes 2 positional arguments but 3 were given",
          "traceback": [
            "\u001b[0;31m---------------------------------------------------------------------------\u001b[0m",
            "\u001b[0;31mTypeError\u001b[0m                                 Traceback (most recent call last)",
            "\u001b[0;32m<ipython-input-18-d8b1a3e97034>\u001b[0m in \u001b[0;36m<cell line: 0>\u001b[0;34m()\u001b[0m\n\u001b[1;32m     20\u001b[0m \u001b[0;34m\u001b[0m\u001b[0m\n\u001b[1;32m     21\u001b[0m \u001b[0;31m#plot real and generated images side by side vertically\u001b[0m\u001b[0;34m\u001b[0m\u001b[0;34m\u001b[0m\u001b[0m\n\u001b[0;32m---> 22\u001b[0;31m \u001b[0mplot_real_and_generated_images\u001b[0m\u001b[0;34m(\u001b[0m\u001b[0mx_test\u001b[0m\u001b[0;34m,\u001b[0m\u001b[0mgenerated_images\u001b[0m\u001b[0;34m,\u001b[0m\u001b[0;36m5\u001b[0m\u001b[0;34m)\u001b[0m\u001b[0;34m\u001b[0m\u001b[0;34m\u001b[0m\u001b[0m\n\u001b[0m",
            "\u001b[0;31mTypeError\u001b[0m: plot_real_and_generated_images() takes 2 positional arguments but 3 were given"
          ]
        }
      ]
    }
  ]
}